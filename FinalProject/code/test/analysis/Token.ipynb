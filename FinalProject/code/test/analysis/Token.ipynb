{
 "cells": [
  {
   "cell_type": "markdown",
   "id": "a00f415a-4658-4791-8116-1dc497a6dba6",
   "metadata": {},
   "source": [
    "# Token Analysis\n",
    "\n",
    "- Data: `test.in`"
   ]
  },
  {
   "cell_type": "code",
   "execution_count": 260,
   "id": "7f5b3478-cd9e-4e96-a45a-1fec3bab4470",
   "metadata": {},
   "outputs": [],
   "source": [
    "import matplotlib.pyplot as plt # plotting\n",
    "import re # string processing \n",
    "from os import path # operating system build-in \n",
    "from tqdm import tqdm #progress bar\n",
    "import pickle # save items\n",
    "import numpy as np # numerical computation"
   ]
  },
  {
   "cell_type": "code",
   "execution_count": 241,
   "id": "7c9a6ef1-36ff-4d3a-b2cc-c73f65d75824",
   "metadata": {},
   "outputs": [],
   "source": [
    "# Token function \n",
    "def tokenize(text:str):\n",
    "    \"\"\"\n",
    "    Separate string as tokens\n",
    "    Note: 通常 \\w 代表的是 [A-Za-z0-9_]，但在 Python3 中，\\w 也可以是中文字。\n",
    "    \"\"\"\n",
    "    # exlucding _\n",
    "    text = text.replace(\"_\",\" \")\n",
    "    splits = re.split('\\W', text)\n",
    "    tokens = []\n",
    "    # Filter out null string\n",
    "    for s in splits:\n",
    "        if s!= '':\n",
    "            tokens.append(s)\n",
    "    return tokens\n",
    "\n",
    "# Parse contents\n",
    "def get_messages(fn:str):\n",
    "    meg = []\n",
    "    with open(fn, 'r') as f:\n",
    "        i = 1\n",
    "        for line in f:\n",
    "            if ((i-5)%6 == 0):\n",
    "                meg.append(line)\n",
    "            i+=1\n",
    "    return meg\n",
    "\n",
    "def unique(list1):\n",
    "     \n",
    "    # insert the list to the set\n",
    "    list_set = set(list1)\n",
    "    # convert the set to the list\n",
    "    unique_list = (list(list_set))\n",
    "    return unique_list\n",
    "\n",
    "# Plotting \n"
   ]
  },
  {
   "cell_type": "markdown",
   "id": "91bca3e1-530f-474d-85ce-279e7cdb1c15",
   "metadata": {},
   "source": [
    "## Example: Token extraction\n",
    "\n"
   ]
  },
  {
   "cell_type": "code",
   "execution_count": 242,
   "id": "0420a94f-2e9d-4a76-826f-5023c2f444b5",
   "metadata": {},
   "outputs": [
    {
     "name": "stdout",
     "output_type": "stream",
     "text": [
      "['232', '4', '2', '43', '3', 'I', 'have', 'a', 'good', 'data2']\n"
     ]
    }
   ],
   "source": [
    "print(tokenize(\"232 4 2 43 + - 3)()I have a good data2.:?^-_____________\"))"
   ]
  },
  {
   "cell_type": "markdown",
   "id": "5d7a0559-8017-4911-9ecd-a95afeb1eef1",
   "metadata": {},
   "source": [
    "## Working with Data"
   ]
  },
  {
   "cell_type": "code",
   "execution_count": 243,
   "id": "db115648-f737-49f1-a9b0-cd692bca7026",
   "metadata": {},
   "outputs": [],
   "source": [
    "# Load Data\n",
    "dataPath = \"../data/test.in\"\n",
    "assert(path.exists(dataPath))"
   ]
  },
  {
   "cell_type": "code",
   "execution_count": 244,
   "id": "b7ee162d-c571-486d-8302-24448e58ad3f",
   "metadata": {},
   "outputs": [],
   "source": [
    "# Get messages\n",
    "messages = get_messages(dataPath)"
   ]
  },
  {
   "cell_type": "markdown",
   "id": "2c0a5aa2-de18-4379-a699-759491f04579",
   "metadata": {},
   "source": [
    "### Number of messages"
   ]
  },
  {
   "cell_type": "code",
   "execution_count": 245,
   "id": "bd9c66d9-d4b5-4a46-bc2f-5826c98829e8",
   "metadata": {},
   "outputs": [
    {
     "data": {
      "text/plain": [
       "16667"
      ]
     },
     "execution_count": 245,
     "metadata": {},
     "output_type": "execute_result"
    }
   ],
   "source": [
    "len(messages)"
   ]
  },
  {
   "cell_type": "markdown",
   "id": "11347f93-3a22-4d0c-aab3-b9c754e33a80",
   "metadata": {},
   "source": [
    "### Sample message"
   ]
  },
  {
   "cell_type": "code",
   "execution_count": 246,
   "id": "dd3e0a01-e780-4ae5-890a-8df48de844fd",
   "metadata": {},
   "outputs": [
    {
     "data": {
      "text/plain": [
       "\"Minas-Rio is an iron ore mining project in Brazil.[1] It is one of the world's largest mining projects, and is initially expected to export 26.5 million tonnes of iron ore in 2013, through a 525km slurry pipeline to a port at Au;[2] production potential is 53 Mtpa or higher.[3] The project was bought by Anglo American PLC, which is facing high costs.[4][5] The mine has certified reserves of 4.6 billion tonnes of itabirite.[6] There have been delays in starting the project, but in December 2010, Anglo American obtained a key license needed from Brazilian government before mining could start.[7][8]  I read the paragraph on http://wikipedia.org \\n\""
      ]
     },
     "execution_count": 246,
     "metadata": {},
     "output_type": "execute_result"
    }
   ],
   "source": [
    "i_s = 0\n",
    "messages[i_s]"
   ]
  },
  {
   "cell_type": "markdown",
   "id": "772fe910-32cd-4298-876c-8ba233d42516",
   "metadata": {},
   "source": [
    "### Tokenized sample message"
   ]
  },
  {
   "cell_type": "code",
   "execution_count": 247,
   "id": "84299ac3-7c2f-49f5-a456-df2534deb6e0",
   "metadata": {},
   "outputs": [
    {
     "name": "stdout",
     "output_type": "stream",
     "text": [
      "['Minas', 'Rio', 'is', 'an', 'iron', 'ore', 'mining', 'project', 'in', 'Brazil', '1', 'It', 'is', 'one', 'of', 'the', 'world', 's', 'largest', 'mining', 'projects', 'and', 'is', 'initially', 'expected', 'to', 'export', '26', '5', 'million', 'tonnes', 'of', 'iron', 'ore', 'in', '2013', 'through', 'a', '525km', 'slurry', 'pipeline', 'to', 'a', 'port', 'at', 'Au', '2', 'production', 'potential', 'is', '53', 'Mtpa', 'or', 'higher', '3', 'The', 'project', 'was', 'bought', 'by', 'Anglo', 'American', 'PLC', 'which', 'is', 'facing', 'high', 'costs', '4', '5', 'The', 'mine', 'has', 'certified', 'reserves', 'of', '4', '6', 'billion', 'tonnes', 'of', 'itabirite', '6', 'There', 'have', 'been', 'delays', 'in', 'starting', 'the', 'project', 'but', 'in', 'December', '2010', 'Anglo', 'American', 'obtained', 'a', 'key', 'license', 'needed', 'from', 'Brazilian', 'government', 'before', 'mining', 'could', 'start', '7', '8', 'I', 'read', 'the', 'paragraph', 'on', 'http', 'wikipedia', 'org']\n"
     ]
    }
   ],
   "source": [
    "print(tokenize(messages[i_s]))"
   ]
  },
  {
   "cell_type": "markdown",
   "id": "2f225553-318c-4b7e-894e-31944189b0bf",
   "metadata": {},
   "source": [
    "## Get all tokens"
   ]
  },
  {
   "cell_type": "code",
   "execution_count": 248,
   "id": "4452431a-b51e-4b5e-bd74-a8480dcbbd04",
   "metadata": {},
   "outputs": [],
   "source": [
    "# Get all tokens\n",
    "tokens = []\n",
    "for m in messages:\n",
    "    ts = tokenize(m)\n",
    "    for t in ts:\n",
    "        tokens.append(t)"
   ]
  },
  {
   "cell_type": "markdown",
   "id": "50f99624-673c-4e55-bb50-8b5a3bbd796a",
   "metadata": {},
   "source": [
    "### Total number of tokens (duplicates included)"
   ]
  },
  {
   "cell_type": "code",
   "execution_count": 249,
   "id": "041f697c-845c-4ecb-995b-6f5ba8ea7b54",
   "metadata": {},
   "outputs": [
    {
     "data": {
      "text/plain": [
       "3559582"
      ]
     },
     "execution_count": 249,
     "metadata": {},
     "output_type": "execute_result"
    }
   ],
   "source": [
    "len(tokens)"
   ]
  },
  {
   "cell_type": "markdown",
   "id": "276d35b3-a9a9-4c8b-b22b-c4e133407473",
   "metadata": {},
   "source": [
    "### Total number of unique tokens"
   ]
  },
  {
   "cell_type": "code",
   "execution_count": 250,
   "id": "14b4e20a-e827-402a-96da-b1f1de77c57c",
   "metadata": {},
   "outputs": [
    {
     "data": {
      "text/plain": [
       "169367"
      ]
     },
     "execution_count": 250,
     "metadata": {},
     "output_type": "execute_result"
    }
   ],
   "source": [
    "unitk = unique(tokens)\n",
    "len(unitk)"
   ]
  },
  {
   "cell_type": "code",
   "execution_count": 251,
   "id": "9007dd4e-afd3-46db-8783-856b2c60c926",
   "metadata": {},
   "outputs": [
    {
     "name": "stdout",
     "output_type": "stream",
     "text": [
      "['expunged', 'Canthium', 'surpressed', 'Goubrine', 'Lothringen', 'Wasserfall', 'reunite', 'capsularis', 'dumplings', 'inducts', 'Putnik', 'Saltimbancos', '77278', 'scrimm', 'InSb', 'particle', 'Catch', 'Fokker', 'Mingora', 'Afyon']\n"
     ]
    }
   ],
   "source": [
    "print(unitk[0:20])"
   ]
  },
  {
   "cell_type": "markdown",
   "id": "95d85cf0-4569-4c9e-a60a-8680401212eb",
   "metadata": {},
   "source": [
    "### Maxmum length of unique tokens"
   ]
  },
  {
   "cell_type": "code",
   "execution_count": 252,
   "id": "abc01426-2ac2-4d61-8b8a-eb4167282d6c",
   "metadata": {},
   "outputs": [
    {
     "name": "stdout",
     "output_type": "stream",
     "text": [
      "Maximum length of token:  51\n",
      "Longest token:  NeckargemndNeckarsteinachEberbachNeckarelzJagstfeld\n"
     ]
    }
   ],
   "source": [
    "lmax = -1\n",
    "strmax = \"\"\n",
    "for s in unitk:\n",
    "    l = len(s)\n",
    "    if lmax < l:\n",
    "        lmax = l\n",
    "        strmax = s\n",
    "print(\"Maximum length of token: \", lmax)\n",
    "print(\"Longest token: \", strmax)"
   ]
  },
  {
   "cell_type": "markdown",
   "id": "f435aa44-2d4f-4eb8-a67c-34f4db287ae5",
   "metadata": {},
   "source": [
    "## Distribution of length of all tokens"
   ]
  },
  {
   "cell_type": "code",
   "execution_count": 253,
   "id": "788dee1a-d97a-485c-91e7-fdd359ad9ada",
   "metadata": {},
   "outputs": [],
   "source": [
    "lens = []\n",
    "for t in tokens:\n",
    "    lens.append(len(t))"
   ]
  },
  {
   "cell_type": "code",
   "execution_count": 298,
   "id": "56002f60-cc98-49ed-84a3-44ec461b90af",
   "metadata": {},
   "outputs": [],
   "source": [
    "number_list = np.array(lens)\n",
    "\n",
    "(unique, counts) = np.unique(number_list, return_counts=True)\n",
    "\n",
    "# Cumulative counts\n",
    "counts_cum = [counts[0]]\n",
    "for (i,c) in enumerate(counts[1:]):\n",
    "    counts_cum.append(counts_cum[-1] + c)\n",
    "    \n",
    "\n",
    "    "
   ]
  },
  {
   "cell_type": "code",
   "execution_count": 314,
   "id": "1aac9397-9d46-4758-a9fc-651ecdc6cc65",
   "metadata": {},
   "outputs": [
    {
     "data": {
      "image/png": "[encoded data removed]",
      "text/plain": [
       "<Figure size 432x288 with 2 Axes>"
      ]
     },
     "metadata": {
      "needs_background": "light"
     },
     "output_type": "display_data"
    }
   ],
   "source": [
    "fig, ax = plt.subplots()\n",
    "\n",
    "ax.bar(unique, counts/sum(counts), color=\"black\", label=\"PMF\")\n",
    "ax.set_xlabel(\"Length of token\")\n",
    "ax.set_ylabel(\"Probability (PMF)\", color=\"black\")\n",
    "ax.axvline(max(lens))\n",
    "\n",
    "ax2 = ax.twinx()\n",
    "ax2.plot(unique, counts_cum/sum(counts), color=\"red\", label=\"CMF\")\n",
    "ax2.set_ylabel(\"Probablility (CMF)\", color=\"red\")\n",
    "\n",
    "\n",
    "fig.savefig(\"img/token_length_pmf.pdf\", transparent=True)"
   ]
  },
  {
   "cell_type": "code",
   "execution_count": 308,
   "id": "5fae1e60-d17d-41bd-9f0f-674f51005631",
   "metadata": {},
   "outputs": [
    {
     "name": "stdout",
     "output_type": "stream",
     "text": [
      "Len\tCMF\n",
      "0 0.050994470699087704\n",
      "1 0.21468251047454448\n",
      "2 0.40355693449399394\n",
      "3 0.5480710937407819\n",
      "4 0.6543532358574686\n",
      "5 0.7456072089363301\n",
      "6 0.8284837938836639\n",
      "7 0.8917999360599081\n",
      "8 0.9399171026260948\n",
      "9 0.9684690505795344\n",
      "10 0.98341013074007\n",
      "11 0.9921164900822624\n",
      "12 0.996690622662998\n",
      "13 0.9986192198971677\n",
      "14 0.9994291464559603\n",
      "15 0.9996884465647933\n",
      "16 0.9998176752214164\n",
      "17 0.9999027975756704\n",
      "18 0.9999376331265862\n",
      "19 0.9999564555613553\n",
      "20 0.9999662881765331\n",
      "21 0.9999713449500531\n",
      "22 0.9999780873147465\n",
      "23 0.9999828631564043\n",
      "24 0.9999865152706132\n",
      "25 0.9999896055210977\n",
      "26 0.9999926957715821\n",
      "27 0.9999938194990311\n",
      "28 0.9999960669539288\n",
      "29 0.9999974716132399\n",
      "30 0.9999983144088267\n",
      "31 0.9999988762725511\n",
      "32 0.9999994381362756\n",
      "33 0.9999997190681378\n",
      "34 1.0\n"
     ]
    }
   ],
   "source": [
    "print(\"Len\\tCMF\")\n",
    "for i,j in enumerate(counts_cum/sum(counts)):\n",
    "    print(i, j)"
   ]
  },
  {
   "cell_type": "code",
   "execution_count": null,
   "id": "2c58b488-b04b-4b8c-bffc-09ffb86a1edb",
   "metadata": {},
   "outputs": [],
   "source": []
  }
 ],
 "metadata": {
  "kernelspec": {
   "display_name": "Python 3",
   "language": "python",
   "name": "python3"
  },
  "language_info": {
   "codemirror_mode": {
    "name": "ipython",
    "version": 3
   },
   "file_extension": ".py",
   "mimetype": "text/x-python",
   "name": "python",
   "nbconvert_exporter": "python",
   "pygments_lexer": "ipython3",
   "version": "3.8.5"
  }
 },
 "nbformat": 4,
 "nbformat_minor": 5
}
